{
 "cells": [
  {
   "cell_type": "code",
   "execution_count": 1,
   "metadata": {},
   "outputs": [],
   "source": [
    "\n",
    "def greet():\n",
    "    print('Hey welcome to python class')\n",
    "    "
   ]
  },
  {
   "cell_type": "code",
   "execution_count": 2,
   "metadata": {},
   "outputs": [
    {
     "name": "stdout",
     "output_type": "stream",
     "text": [
      "Hey welcome to python class\n"
     ]
    }
   ],
   "source": [
    "greet()"
   ]
  },
  {
   "cell_type": "code",
   "execution_count": 3,
   "metadata": {},
   "outputs": [],
   "source": [
    "def greet2(name):\n",
    "    print(f'Hey {name} welcome to python class')"
   ]
  },
  {
   "cell_type": "code",
   "execution_count": 6,
   "metadata": {},
   "outputs": [
    {
     "name": "stdout",
     "output_type": "stream",
     "text": [
      "Hey Simeon welcome to python class\n"
     ]
    }
   ],
   "source": [
    "greet2('Simeon')"
   ]
  },
  {
   "cell_type": "code",
   "execution_count": 7,
   "metadata": {},
   "outputs": [
    {
     "name": "stdout",
     "output_type": "stream",
     "text": [
      "Hey Ade welcome to python class\n"
     ]
    }
   ],
   "source": [
    "greet2('Ade')"
   ]
  },
  {
   "cell_type": "code",
   "execution_count": 9,
   "metadata": {},
   "outputs": [
    {
     "name": "stdout",
     "output_type": "stream",
     "text": [
      "My name is Simeon\n",
      "i am a Male and my age is 25\n"
     ]
    }
   ],
   "source": [
    "def person(Name,Gender,Age):\n",
    "    print(f'My name is {Name}')\n",
    "    print(f'i am a {Gender} and my age is {Age}')\n",
    "person('Simeon','Male',25)"
   ]
  },
  {
   "cell_type": "code",
   "execution_count": 11,
   "metadata": {},
   "outputs": [
    {
     "name": "stdout",
     "output_type": "stream",
     "text": [
      "My name is Simeon\n",
      "i am a Male and my age is 30\n",
      "Congratulations you are eligbile to vote\n"
     ]
    }
   ],
   "source": [
    "def person(Name,Gender,Age = 18):\n",
    "    print(f'My name is {Name}')\n",
    "    print(f'i am a {Gender} and my age is {Age}')\n",
    "    if Age >= 18:\n",
    "        print('Congratulations you are eligbile to vote')\n",
    "    else:\n",
    "        print('Hey sorry you are not eligible to vote wait till you are 18 years')\n",
    "person('Simeon','Male',30)"
   ]
  },
  {
   "cell_type": "code",
   "execution_count": 12,
   "metadata": {},
   "outputs": [
    {
     "name": "stdin",
     "output_type": "stream",
     "text": [
      "Please Enter your password: taiwo101\n"
     ]
    },
    {
     "name": "stdout",
     "output_type": "stream",
     "text": [
      "Make sure your password has a capital letter \n"
     ]
    },
    {
     "name": "stdin",
     "output_type": "stream",
     "text": [
      "Please Enter your password: Taiwo101\n"
     ]
    },
    {
     "name": "stdout",
     "output_type": "stream",
     "text": [
      "Your password is fine\n"
     ]
    }
   ],
   "source": [
    "import re\n",
    "def validate():\n",
    "    while True:\n",
    "        password = input('Please Enter your password:')\n",
    "        if len(password) < 8:\n",
    "            print('Your password must be 8 and above')\n",
    "        elif re.search('[0-9]',password) is None:\n",
    "            print('Make sure your password has a digit ')\n",
    "        elif re.search('[A-Z]',password) is None:\n",
    "            print('Make sure your password has a capital letter ')\n",
    "        else:\n",
    "            print('Your password is fine')\n",
    "            break\n",
    "validate()"
   ]
  },
  {
   "cell_type": "code",
   "execution_count": null,
   "metadata": {},
   "outputs": [],
   "source": []
  },
  {
   "cell_type": "code",
   "execution_count": 14,
   "metadata": {},
   "outputs": [
    {
     "name": "stdout",
     "output_type": "stream",
     "text": [
      "My name is Simeon\n",
      "i am a Male and my age is 30\n",
      "Congratulations you are eligbile to vote\n"
     ]
    }
   ],
   "source": [
    "def person(Name,Gender,Age = 18):\n",
    "    print(f'My name is {Name}')\n",
    "    print(f'i am a {Gender} and my age is {Age}')\n",
    "    if Age >= 18:\n",
    "        print('Congratulations you are eligbile to vote')\n",
    "    else:\n",
    "        print('Hey sorry you are not eligible to vote wait till you are 18 years')\n",
    "person(Age = 30,Name ='Simeon',Gender='Male')"
   ]
  },
  {
   "cell_type": "code",
   "execution_count": null,
   "metadata": {},
   "outputs": [],
   "source": []
  }
 ],
 "metadata": {
  "kernelspec": {
   "display_name": "Python 3",
   "language": "python",
   "name": "python3"
  },
  "language_info": {
   "codemirror_mode": {
    "name": "ipython",
    "version": 3
   },
   "file_extension": ".py",
   "mimetype": "text/x-python",
   "name": "python",
   "nbconvert_exporter": "python",
   "pygments_lexer": "ipython3",
   "version": "3.8.5"
  }
 },
 "nbformat": 4,
 "nbformat_minor": 4
}
