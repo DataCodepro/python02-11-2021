{
 "cells": [
  {
   "cell_type": "markdown",
   "metadata": {},
   "source": [
    "# Python Lambda Functions are anonymous function means that the function is without a name. As we already know that the def keyword is used to define a normal function in Python. Similarly, the lambda keyword is used to define an anonymous function in Python. Things to note\n",
    "# This function can have any number of arguments but only one expression, which is evaluated and returned.\n",
    "# One is free to use lambda functions wherever function objects are required.\n",
    "# You need to keep in your knowledge that lambda functions are syntactically restricted to a single expression.\n",
    "# It has various uses in particular fields of programming besides other types of expressions in functions."
   ]
  },
  {
   "cell_type": "markdown",
   "metadata": {},
   "source": [
    "# Python map() applies a function on all the items of an iterator given as input. An iterator, for example, can be a list, a tuple, a dictionary, a string, and it returns an iterable map object. Python map() is a built-in function.Parameters\n",
    "# Here are two important\n",
    "\n",
    "# function: A mandatory function to be given to map, that will be applied to all the items available in the iterator.\n",
    "# iterator: An iterable compulsory object. It can be a list, a tuple, etc. You can pass multiple iterator objects to map() function.\n",
    "# Return Value\n",
    "# The map() function is going to apply the given function on all the items inside the iterator and return an iterable map object i.e a tuple, a list, etc.\n",
    "\n",
    "# How map() function works?\n",
    "# The map() function takes two inputs as a function and an iterable object. The function that is given to map() is a normal function, and it will iterate over all the values present in the iterable object given.\n",
    "\n",
    "# For example, consider you have a list of numbers, and you want to find the square of each of the numbers."
   ]
  },
  {
   "cell_type": "markdown",
   "metadata": {},
   "source": [
    "# Python filter() Function\n",
    "# Python filter() function is used to get filtered elements. This function takes two arguments, first is a function and the second is iterable. The filter function returns a sequence from those elements of iterable for which function returns True.\n",
    "\n",
    "# The first argument can be None if the function is not available and returns only elements that are True.\n",
    "# Parameters\n",
    "# function: It is a function. If set to None returns only elements that are True.\n",
    "\n",
    "# Iterable: Any iterable sequence like list, tuple, and string.\n",
    "\n",
    "\n",
    "# Both the parameters are required.\n",
    "\n",
    "# Return\n",
    "# It returns the same as returned by the function.\n"
   ]
  },
  {
   "cell_type": "code",
   "execution_count": 1,
   "metadata": {},
   "outputs": [
    {
     "data": {
      "text/plain": [
       "2.8284271247461903"
      ]
     },
     "execution_count": 1,
     "metadata": {},
     "output_type": "execute_result"
    }
   ],
   "source": [
    "import math\n",
    "(lambda x:math.sqrt(x))(8)"
   ]
  },
  {
   "cell_type": "code",
   "execution_count": 3,
   "metadata": {},
   "outputs": [
    {
     "name": "stdout",
     "output_type": "stream",
     "text": [
      "True\n"
     ]
    }
   ],
   "source": [
    "name  = 'Taiwo1'\n",
    "if name[0] == name[0].upper():\n",
    "    print(True)\n",
    "else:\n",
    "    print(False)"
   ]
  },
  {
   "cell_type": "code",
   "execution_count": 5,
   "metadata": {},
   "outputs": [
    {
     "name": "stdin",
     "output_type": "stream",
     "text": [
      "please enter your name Taiwo\n"
     ]
    },
    {
     "data": {
      "text/plain": [
       "False"
      ]
     },
     "execution_count": 5,
     "metadata": {},
     "output_type": "execute_result"
    }
   ],
   "source": [
    "(lambda name: True if name[0] == 'S' else False)(input('please enter your name'))"
   ]
  },
  {
   "cell_type": "code",
   "execution_count": 12,
   "metadata": {},
   "outputs": [
    {
     "name": "stdin",
     "output_type": "stream",
     "text": [
      "please enter your password: Seyilaw0\n"
     ]
    },
    {
     "data": {
      "text/plain": [
       "True"
      ]
     },
     "execution_count": 12,
     "metadata": {},
     "output_type": "execute_result"
    }
   ],
   "source": [
    "(lambda password: True if (password[0] == password[0].upper()) and (password[-1] == '0') else False)(input('please enter your password:'))"
   ]
  },
  {
   "cell_type": "code",
   "execution_count": 14,
   "metadata": {},
   "outputs": [],
   "source": [
    "numbers = []\n",
    "counter =1\n",
    "import random\n",
    "while counter <= 30:\n",
    "    num = random.randint(25,35)\n",
    "    numbers.append(num)\n",
    "    counter +=1"
   ]
  },
  {
   "cell_type": "code",
   "execution_count": 17,
   "metadata": {},
   "outputs": [],
   "source": [
    "import math\n",
    "numbers_update = list(map(lambda num: math.sqrt(num),numbers))"
   ]
  },
  {
   "cell_type": "code",
   "execution_count": 18,
   "metadata": {},
   "outputs": [
    {
     "data": {
      "text/plain": [
       "[5.744562646538029,\n",
       " 5.744562646538029,\n",
       " 5.5677643628300215,\n",
       " 5.291502622129181,\n",
       " 5.916079783099616,\n",
       " 5.385164807134504,\n",
       " 5.385164807134504,\n",
       " 5.0990195135927845,\n",
       " 5.744562646538029,\n",
       " 5.916079783099616,\n",
       " 5.5677643628300215,\n",
       " 5.0,\n",
       " 5.0990195135927845,\n",
       " 5.5677643628300215,\n",
       " 5.0,\n",
       " 5.5677643628300215,\n",
       " 5.291502622129181,\n",
       " 5.477225575051661,\n",
       " 5.830951894845301,\n",
       " 5.291502622129181,\n",
       " 5.385164807134504,\n",
       " 5.385164807134504,\n",
       " 5.916079783099616,\n",
       " 5.656854249492381,\n",
       " 5.196152422706632,\n",
       " 5.656854249492381,\n",
       " 5.0,\n",
       " 5.744562646538029,\n",
       " 5.0990195135927845,\n",
       " 5.656854249492381]"
      ]
     },
     "execution_count": 18,
     "metadata": {},
     "output_type": "execute_result"
    }
   ],
   "source": [
    "numbers_update"
   ]
  },
  {
   "cell_type": "code",
   "execution_count": 21,
   "metadata": {},
   "outputs": [],
   "source": [
    "numbers_update1 = list(filter(lambda num: num < 30,numbers))"
   ]
  },
  {
   "cell_type": "code",
   "execution_count": 22,
   "metadata": {},
   "outputs": [
    {
     "data": {
      "text/plain": [
       "[28, 29, 29, 26, 25, 26, 25, 28, 28, 29, 29, 27, 25, 26]"
      ]
     },
     "execution_count": 22,
     "metadata": {},
     "output_type": "execute_result"
    }
   ],
   "source": [
    "numbers_update1"
   ]
  },
  {
   "cell_type": "code",
   "execution_count": null,
   "metadata": {},
   "outputs": [],
   "source": []
  }
 ],
 "metadata": {
  "kernelspec": {
   "display_name": "Python 3",
   "language": "python",
   "name": "python3"
  },
  "language_info": {
   "codemirror_mode": {
    "name": "ipython",
    "version": 3
   },
   "file_extension": ".py",
   "mimetype": "text/x-python",
   "name": "python",
   "nbconvert_exporter": "python",
   "pygments_lexer": "ipython3",
   "version": "3.8.5"
  }
 },
 "nbformat": 4,
 "nbformat_minor": 4
}
