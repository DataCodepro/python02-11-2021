{
 "cells": [
  {
   "cell_type": "code",
   "execution_count": 4,
   "metadata": {},
   "outputs": [
    {
     "name": "stdin",
     "output_type": "stream",
     "text": [
      "Please enter your birthday date: 7/02/199\n"
     ]
    },
    {
     "name": "stdout",
     "output_type": "stream",
     "text": [
      "Hey congratulation and have prosperious birthday\n"
     ]
    }
   ],
   "source": [
    "birthday = {\n",
    "    '22/02/1997':'Jane okoro',\n",
    "    '19/05/1895':'Keneth olaolu',\n",
    "    '26/12/1990':'Samuel Hero',\n",
    "    '8/06/2001':'Joy Akpan',\n",
    "    '7/02/1999':'Okon Okon'\n",
    "}\n",
    "Bdate = input('Please enter your birthday date:')\n",
    "for i in birthday.keys():\n",
    "    if i == Bdate:\n",
    "        print('Hey congratulation and have prosperious birthday')\n",
    "        break\n",
    "else:\n",
    "    print('Invalid clint')"
   ]
  },
  {
   "cell_type": "markdown",
   "metadata": {},
   "source": [
    "# 1.) *args\n",
    "\n",
    "# The special syntax *args in function definitions in python is used to pass a variable number of arguments to a function. It is used to pass a non-key worded, variable-length argument list. \n",
    "\n",
    "# The syntax is to use the symbol * to take in a variable number of arguments; by convention, it is often used with the word args.\n",
    "# What *args allows you to do is take in more arguments than the number of formal arguments that you previously defined. With *args, any number of extra arguments can be tacked on to your current formal parameters (including zero extra arguments).\n",
    "# For example : we want to make a multiply function that takes any number of arguments and able to multiply them all together. It can be done using *args.\n",
    "# Using the *, the variable that we associate with the * becomes an iterable meaning you can do things like iterate over it, run some higher-order functions such as map and filter, etc.\n",
    " \n",
    " \n",
    " \n",
    " \n",
    " \n",
    "# 2.)**kwargs\n",
    "\n",
    "# The special syntax **kwargs in function definitions in python is used to pass a keyworded, variable-length argument list. We use the name kwargs with the double star. The reason is because the double star allows us to pass through keyword arguments (and any number of them).\n",
    "\n",
    "# A keyword argument is where you provide a name to the variable as you pass it into the function.\n",
    "# One can think of the kwargs as being a dictionary that maps each keyword to the value that we pass alongside it. That is why when we iterate over the kwargs there doesn’t seem to be any order in which they were printed out."
   ]
  },
  {
   "cell_type": "code",
   "execution_count": 8,
   "metadata": {},
   "outputs": [],
   "source": [
    "def add(*number):\n",
    "    print(type(number))\n",
    "    for i in number:\n",
    "        print(i)"
   ]
  },
  {
   "cell_type": "code",
   "execution_count": 9,
   "metadata": {},
   "outputs": [
    {
     "name": "stdout",
     "output_type": "stream",
     "text": [
      "<class 'tuple'>\n",
      "2\n",
      "2\n",
      "8\n",
      "9\n",
      "7\n",
      "8\n",
      "8\n",
      "98\n",
      "1\n",
      "0\n",
      "8\n",
      "9\n",
      "2\n",
      "5\n",
      "98\n",
      "5\n",
      "8\n",
      "5\n",
      "8\n"
     ]
    }
   ],
   "source": [
    "add(2,2,8,9,7,8,8,98,1,0,8,9,2,5,98,5,8,5,8,)"
   ]
  },
  {
   "cell_type": "code",
   "execution_count": 10,
   "metadata": {},
   "outputs": [],
   "source": [
    "def add(*number):\n",
    "    print(type(number))\n",
    "    total = 0\n",
    "    for i in number:\n",
    "        total = total + i\n",
    "    print(f'The total of all numbers is {total}')"
   ]
  },
  {
   "cell_type": "code",
   "execution_count": 11,
   "metadata": {},
   "outputs": [
    {
     "name": "stdout",
     "output_type": "stream",
     "text": [
      "<class 'tuple'>\n",
      "The total of all numbers is 291\n"
     ]
    }
   ],
   "source": [
    "add(2,2,8,9,7,8,8,98,1,0,8,9,2,5,98,5,8,5,8)"
   ]
  },
  {
   "cell_type": "code",
   "execution_count": 12,
   "metadata": {},
   "outputs": [],
   "source": [
    "numbers = []\n",
    "counter = 1\n",
    "import random\n",
    "while counter <= 30:\n",
    "    num = random.randint(20,40)\n",
    "    numbers.append(num)\n",
    "    counter +=1"
   ]
  },
  {
   "cell_type": "code",
   "execution_count": 13,
   "metadata": {},
   "outputs": [
    {
     "name": "stdout",
     "output_type": "stream",
     "text": [
      "<class 'tuple'>\n",
      "The total of all numbers is 951\n"
     ]
    }
   ],
   "source": [
    "add(*numbers)"
   ]
  },
  {
   "cell_type": "code",
   "execution_count": 14,
   "metadata": {},
   "outputs": [
    {
     "name": "stdout",
     "output_type": "stream",
     "text": [
      "<class 'dict'>\n",
      "Staffid : AD001\n",
      "Name : Ojo Ania\n",
      "Gender : Male\n",
      "Qualification : Msc Public Administration\n"
     ]
    }
   ],
   "source": [
    "def records(**employee):\n",
    "    print(type(employee))\n",
    "    for key,val in employee.items():\n",
    "        print(key,':',val)\n",
    "records(Staffid ='AD001', Name = 'Ojo Ania',Gender = 'Male',Qualification = 'Msc Public Administration')"
   ]
  },
  {
   "cell_type": "markdown",
   "metadata": {},
   "source": [
    "# Create a record for a supermarket using the following information\n",
    "# 1. Item id\n",
    "# 2. item Name\n",
    "# 3. item group\n",
    "# 4. item quantity\n",
    "# 5. item entry date\n",
    "# the records should be five different item"
   ]
  },
  {
   "cell_type": "code",
   "execution_count": null,
   "metadata": {},
   "outputs": [],
   "source": []
  }
 ],
 "metadata": {
  "kernelspec": {
   "display_name": "Python 3",
   "language": "python",
   "name": "python3"
  },
  "language_info": {
   "codemirror_mode": {
    "name": "ipython",
    "version": 3
   },
   "file_extension": ".py",
   "mimetype": "text/x-python",
   "name": "python",
   "nbconvert_exporter": "python",
   "pygments_lexer": "ipython3",
   "version": "3.8.5"
  }
 },
 "nbformat": 4,
 "nbformat_minor": 4
}
