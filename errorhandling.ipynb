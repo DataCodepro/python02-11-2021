{
 "cells": [
  {
   "cell_type": "code",
   "execution_count": 1,
   "metadata": {},
   "outputs": [],
   "source": [
    "# try\n",
    "# except\n",
    "# else\n",
    "# finally"
   ]
  },
  {
   "cell_type": "code",
   "execution_count": 4,
   "metadata": {},
   "outputs": [
    {
     "name": "stdout",
     "output_type": "stream",
     "text": [
      "Enter the first number:10.5\n",
      "You have encouter one or more errors\n"
     ]
    }
   ],
   "source": [
    "try:\n",
    "    num1 = int(input('Enter the first number:'))\n",
    "    num2 = int(input('Enter the second number:'))\n",
    "    print(num1/num2)\n",
    "except:\n",
    "    print('You have encouter one or more errors')"
   ]
  },
  {
   "cell_type": "code",
   "execution_count": 12,
   "metadata": {},
   "outputs": [
    {
     "name": "stdout",
     "output_type": "stream",
     "text": [
      "Enter the first number:10,\n",
      "You have entered a wrong value, whole numbers is expected\n"
     ]
    }
   ],
   "source": [
    "try:\n",
    "    num1 = int(input('Enter the first number:'))\n",
    "    num2 = int(input('Enter the second number:'))\n",
    "    print(num1/num2)\n",
    "except ValueError:\n",
    "    print('You have entered a wrong value, whole numbers is expected')\n",
    "except ZeroDivisionError:\n",
    "    print('You can not divide a number by zero')\n",
    "except:\n",
    "    print('You have encouter one or more errors')"
   ]
  },
  {
   "cell_type": "code",
   "execution_count": 16,
   "metadata": {},
   "outputs": [
    {
     "name": "stdout",
     "output_type": "stream",
     "text": [
      "Enter the first number:10\n",
      "Enter the second number:5\n",
      "Choose an operation (+,-,/,*):+\n",
      "10 + 5 = 15\n",
      "10 is an even number\n",
      "End of program\n"
     ]
    }
   ],
   "source": [
    "try:\n",
    "    num1 = int(input('Enter the first number:'))\n",
    "    num2 = int(input('Enter the second number:'))\n",
    "    choice = input('Choose an operation (+,-,/,*):')\n",
    "    if choice == '+':\n",
    "        print(f'{num1} + {num2} = {num1 + num2}')\n",
    "    elif choice == '-':\n",
    "        print(f'{num1} - {num2} = {num1 - num2}')\n",
    "    elif choice == '*':\n",
    "        print(f'{num1} x {num2} = {num1 * num2}')\n",
    "    elif choice == '/':\n",
    "        print(f'{num1} / {num2} = {num1 / num2}')\n",
    "    else:\n",
    "        print('Invalid operation sign')\n",
    "except ValueError:\n",
    "    print('You have entered a wrong value, whole numbers is expected')\n",
    "except ZeroDivisionError:\n",
    "    print('You can not divide a number by zero')\n",
    "except:\n",
    "    print('You have encouter one or more errors')\n",
    "else:\n",
    "    if num1 % 2 == 0:\n",
    "        print(f'{num1} is an even number')\n",
    "    else:\n",
    "        \n",
    "        print(f'{num1} is an odd number')\n",
    "finally:\n",
    "    print('End of program')"
   ]
  },
  {
   "cell_type": "code",
   "execution_count": null,
   "metadata": {},
   "outputs": [],
   "source": []
  }
 ],
 "metadata": {
  "kernelspec": {
   "display_name": "Python 3",
   "language": "python",
   "name": "python3"
  },
  "language_info": {
   "codemirror_mode": {
    "name": "ipython",
    "version": 3
   },
   "file_extension": ".py",
   "mimetype": "text/x-python",
   "name": "python",
   "nbconvert_exporter": "python",
   "pygments_lexer": "ipython3",
   "version": "3.8.5"
  }
 },
 "nbformat": 4,
 "nbformat_minor": 4
}
